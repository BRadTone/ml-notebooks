{
 "cells": [
  {
   "cell_type": "markdown",
   "metadata": {},
   "source": [
    "## Visual representation of soft-max with temperature for knowledge distilation\n",
    "\n",
    "Using a higher value for T produces a softer\n",
    "probability distribution over classes.\n"
   ]
  },
  {
   "cell_type": "code",
   "execution_count": 13,
   "metadata": {
    "scrolled": true
   },
   "outputs": [],
   "source": [
    "%matplotlib notebook\n",
    "import numpy as np\n",
    "import matplotlib.pyplot as plt\n",
    "from ipywidgets import FloatSlider"
   ]
  },
  {
   "cell_type": "code",
   "execution_count": 14,
   "metadata": {},
   "outputs": [],
   "source": [
    "def soft_max(array, t=1):\n",
    "    exps = np.exp(array / t)\n",
    "    _sum = np.sum(exps)\n",
    "    return exps / _sum\n"
   ]
  },
  {
   "cell_type": "markdown",
   "metadata": {},
   "source": [
    "### Provide output layer vector:"
   ]
  },
  {
   "cell_type": "code",
   "execution_count": 15,
   "metadata": {},
   "outputs": [],
   "source": [
    "clf_output = np.array([0.02, 0.03, 0.91, 0.01, 0.3, .03])"
   ]
  },
  {
   "cell_type": "code",
   "execution_count": 16,
   "metadata": {},
   "outputs": [],
   "source": [
    "def update_plot(change):\n",
    "    soft_max_distribution.set_ydata(soft_max(clf_output, slider.value))"
   ]
  },
  {
   "cell_type": "code",
   "execution_count": 17,
   "metadata": {},
   "outputs": [],
   "source": [
    "slider = FloatSlider(value=1, min=0.1, max=4, step=0.05, description='Temperature')\n",
    "slider.observe(update_plot, 'value')"
   ]
  },
  {
   "cell_type": "code",
   "execution_count": 18,
   "metadata": {},
   "outputs": [
    {
     "data": {
      "text/plain": [
       "<IPython.core.display.Javascript object>"
      ]
     },
     "execution_count": 0,
     "metadata": {},
     "output_type": "execute_result"
    },
    {
     "data": {
      "text/html": [
       "<div id='e9343e93-c85f-4228-8110-6c8a27437fc7'></div>"
      ],
      "text/plain": [
       "<div id='e9343e93-c85f-4228-8110-6c8a27437fc7'></div>"
      ]
     },
     "execution_count": 0,
     "metadata": {},
     "output_type": "execute_result"
    },
    {
     "data": {
      "text/plain": [
       "FloatSlider(value=1.0, description='Temperature', max=4.0, min=0.1, step=0.05)"
      ]
     },
     "execution_count": 0,
     "metadata": {},
     "output_type": "execute_result"
    }
   ],
   "source": [
    "fig = plt.figure(figsize=(8, 2), num='Interactive plot')\n",
    "ax = fig.add_subplot(111)\n",
    "soft_max_distribution, = ax.plot(soft_max(clf_output))\n",
    "ax.axis(ymin=0, ymax=1)\n",
    "ax.grid()\n",
    "\n",
    "slider\n"
   ]
  }
 ],
 "metadata": {
  "kernelspec": {
   "display_name": "Python 3",
   "language": "python",
   "name": "python3"
  },
  "language_info": {
   "codemirror_mode": {
    "name": "ipython",
    "version": 3
   },
   "file_extension": ".py",
   "mimetype": "text/x-python",
   "name": "python",
   "nbconvert_exporter": "python",
   "pygments_lexer": "ipython3",
   "version": "3.6.4"
  }
 },
 "nbformat": 4,
 "nbformat_minor": 2
}
