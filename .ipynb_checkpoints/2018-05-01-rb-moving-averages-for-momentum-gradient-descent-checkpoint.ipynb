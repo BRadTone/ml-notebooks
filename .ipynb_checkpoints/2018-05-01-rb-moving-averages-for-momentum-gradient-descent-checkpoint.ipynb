{
 "cells": [
  {
   "cell_type": "markdown",
   "metadata": {},
   "source": [
    "# Exponential moving averages visualization for understanding momentum gradient descent"
   ]
  },
  {
   "cell_type": "code",
   "execution_count": 1,
   "metadata": {},
   "outputs": [],
   "source": [
    "%matplotlib notebook\n",
    "import numpy as np\n",
    "import matplotlib.pyplot as plt\n",
    "from ipywidgets import FloatSlider\n",
    "# plt.style.use('dark_background')"
   ]
  },
  {
   "cell_type": "code",
   "execution_count": 62,
   "metadata": {},
   "outputs": [],
   "source": [
    "def update_plot(change):\n",
    "    ema_line.set_data(np.arange(20), np.random.rand(20) + slider.value)\n",
    "#     ax.relim()        # Recalculate limits\n",
    "#     ax.autoscale_view(True,True,True)\n",
    "\n",
    "def get_EMA_list(list, beta=0.9):\n",
    "    ema_list = [0]\n",
    "    for idx, val in enumerate(list):\n",
    "        current = beta * ema_list[idx-1] + (1-beta) * val\n",
    "        ema_list.append(current)\n",
    "    \n",
    "    del ema_list[-1]\n",
    "    return ema_list\n",
    "    "
   ]
  },
  {
   "cell_type": "code",
   "execution_count": 63,
   "metadata": {},
   "outputs": [],
   "source": [
    "slider = FloatSlider(value=1, min=0.1, max=10, step=0.05, description='Temperature')\n",
    "slider.observe(update_plot, 'value')"
   ]
  },
  {
   "cell_type": "code",
   "execution_count": 65,
   "metadata": {},
   "outputs": [
    {
     "name": "stderr",
     "output_type": "stream",
     "text": [
      "/Library/Frameworks/Python.framework/Versions/3.6/lib/python3.6/site-packages/matplotlib/cbook/deprecation.py:107: MatplotlibDeprecationWarning: Adding an axes using the same arguments as a previous axes currently reuses the earlier instance.  In a future version, a new instance will always be created and returned.  Meanwhile, this warning can be suppressed, and the future behavior ensured, by passing a unique label to each axes instance.\n",
      "  warnings.warn(message, mplDeprecation, stacklevel=1)\n"
     ]
    },
    {
     "data": {
      "application/vnd.jupyter.widget-view+json": {
       "model_id": "62b7c05c56844e98a9890cdc5ed6f26e",
       "version_major": 2,
       "version_minor": 0
      },
      "text/plain": [
       "FloatSlider(value=1.0, description='Temperature', max=10.0, min=0.1, step=0.05)"
      ]
     },
     "metadata": {},
     "output_type": "display_data"
    }
   ],
   "source": [
    "fig = plt.figure(figsize=(8, 4), num='Interactive plot')\n",
    "ax = fig.add_subplot(111)\n",
    "m = 15\n",
    "step = 0.01\n",
    "range = np.arange(0, m, step)\n",
    "y_scatter = (np.sin(range) + range / 2 ) + np.random.randn(len(range)) / 2\n",
    "ax.scatter(range, y_scatter, s=1.5)\n",
    "\n",
    "# todo: make it EMA over y_scatter\n",
    "y_EMA = get_EMA_list(y_scatter)\n",
    "\n",
    "ema_line, = ax.plot(range, y_EMA)\n",
    "ax.grid()\n",
    "\n",
    "slider"
   ]
  },
  {
   "cell_type": "code",
   "execution_count": null,
   "metadata": {},
   "outputs": [],
   "source": []
  },
  {
   "cell_type": "code",
   "execution_count": null,
   "metadata": {},
   "outputs": [],
   "source": []
  }
 ],
 "metadata": {
  "kernelspec": {
   "display_name": "Python 3",
   "language": "python",
   "name": "python3"
  },
  "language_info": {
   "codemirror_mode": {
    "name": "ipython",
    "version": 3
   },
   "file_extension": ".py",
   "mimetype": "text/x-python",
   "name": "python",
   "nbconvert_exporter": "python",
   "pygments_lexer": "ipython3",
   "version": "3.6.4"
  }
 },
 "nbformat": 4,
 "nbformat_minor": 2
}
